{
 "cells": [
  {
   "cell_type": "code",
   "execution_count": 5,
   "id": "67cac4db",
   "metadata": {},
   "outputs": [],
   "source": [
    "import numpy as np\n",
    "import pandas as pd\n",
    "from modules import monthly_bias_correction\n",
    "import os\n",
    "import concurrent.futures\n",
    "import traceback\n",
    "from tqdm import tqdm"
   ]
  },
  {
   "cell_type": "code",
   "execution_count": 6,
   "id": "fc85368c",
   "metadata": {},
   "outputs": [
    {
     "name": "stderr",
     "output_type": "stream",
     "text": [
      "C:\\Users\\Acer\\AppData\\Local\\Temp\\ipykernel_5564\\3887080572.py:9: UserWarning: Could not infer format, so each element will be parsed individually, falling back to `dateutil`. To ensure parsing is consistent and as-expected, please specify a format.\n",
      "  stations_df = [pd.read_csv(file, index_col=0, parse_dates=True)\n"
     ]
    }
   ],
   "source": [
    "# Path to data\n",
    "path = r\"F:\\Reanalysis Data\\Monthly\\Combined\\ASSESS ESM 15\"\n",
    "\n",
    "# Get all station file paths\n",
    "station_files = [os.path.join(path, file)\n",
    "                 for file in os.listdir(path) if file.endswith('.csv')]\n",
    "\n",
    "# Read all station CSVs into DataFrames\n",
    "stations_df = [pd.read_csv(file, index_col=0, parse_dates=True)\n",
    "               for file in station_files]"
   ]
  },
  {
   "cell_type": "code",
   "execution_count": 7,
   "id": "086e1b63",
   "metadata": {},
   "outputs": [
    {
     "data": {
      "application/vnd.microsoft.datawrangler.viewer.v0+json": {
       "columns": [
        {
         "name": "index",
         "rawType": "datetime64[ns]",
         "type": "datetime"
        },
        {
         "name": "DISTRICT",
         "rawType": "object",
         "type": "string"
        },
        {
         "name": "LATITUDE",
         "rawType": "float64",
         "type": "float"
        },
        {
         "name": "LONGITUDE",
         "rawType": "float64",
         "type": "float"
        },
        {
         "name": "Test MSE (lr)",
         "rawType": "float64",
         "type": "float"
        },
        {
         "name": "Test MSE (xgb)",
         "rawType": "float64",
         "type": "float"
        },
        {
         "name": "Test R2 (lr)",
         "rawType": "float64",
         "type": "float"
        },
        {
         "name": "Test R2 (xgb)",
         "rawType": "float64",
         "type": "float"
        },
        {
         "name": "Train MSE (lr)",
         "rawType": "float64",
         "type": "float"
        },
        {
         "name": "Train MSE (xgb)",
         "rawType": "float64",
         "type": "float"
        },
        {
         "name": "Train R2 (lr)",
         "rawType": "float64",
         "type": "float"
        },
        {
         "name": "Train R2 (xgb)",
         "rawType": "float64",
         "type": "float"
        },
        {
         "name": "UPAZILA",
         "rawType": "object",
         "type": "string"
        },
        {
         "name": "WELL ID",
         "rawType": "object",
         "type": "string"
        },
        {
         "name": "downscaled_hist_lr",
         "rawType": "float64",
         "type": "float"
        },
        {
         "name": "downscaled_hist_xgb",
         "rawType": "float64",
         "type": "float"
        },
        {
         "name": "downscaled_ssp_245_lr",
         "rawType": "float64",
         "type": "float"
        },
        {
         "name": "downscaled_ssp_245_xgb",
         "rawType": "float64",
         "type": "float"
        },
        {
         "name": "downscaled_ssp_585_lr",
         "rawType": "float64",
         "type": "float"
        },
        {
         "name": "downscaled_ssp_585_xgb",
         "rawType": "float64",
         "type": "float"
        },
        {
         "name": "wtable",
         "rawType": "float64",
         "type": "float"
        }
       ],
       "ref": "23638389-d066-479b-be79-d46e89b9c411",
       "rows": [
        [
         "1980-01-01 00:00:00",
         "Barguna",
         "22.32",
         "90.3275",
         "0.0340664456786266",
         "0.0329499861705172",
         "0.7336811075744079",
         "0.742409175728118",
         "0.0369236111360148",
         "0.0375218603476823",
         "0.7587190296203061",
         "0.7548097112768677",
         "Bamna",
         "GT0419003",
         "2.133679747993292",
         "2.119114",
         null,
         null,
         null,
         null,
         "2.0925"
        ],
        [
         "1980-02-01 00:00:00",
         "Barguna",
         "22.32",
         "90.3275",
         "0.0340664456786266",
         "0.0329499861705172",
         "0.7336811075744079",
         "0.742409175728118",
         "0.0369236111360148",
         "0.0375218603476823",
         "0.7587190296203061",
         "0.7548097112768677",
         "Bamna",
         "GT0419003",
         "2.1781873135026064",
         "2.0252483",
         null,
         null,
         null,
         null,
         "2.155"
        ],
        [
         "1980-03-01 00:00:00",
         "Barguna",
         "22.32",
         "90.3275",
         "0.0340664456786266",
         "0.0329499861705172",
         "0.7336811075744079",
         "0.742409175728118",
         "0.0369236111360148",
         "0.0375218603476823",
         "0.7587190296203061",
         "0.7548097112768677",
         "Bamna",
         "GT0419003",
         "2.2264676951857587",
         "2.1138713",
         null,
         null,
         null,
         null,
         "2.026"
        ],
        [
         "1980-04-01 00:00:00",
         "Barguna",
         "22.32",
         "90.3275",
         "0.0340664456786266",
         "0.0329499861705172",
         "0.7336811075744079",
         "0.742409175728118",
         "0.0369236111360148",
         "0.0375218603476823",
         "0.7587190296203061",
         "0.7548097112768677",
         "Bamna",
         "GT0419003",
         "2.10138920610698",
         "2.1102335",
         null,
         null,
         null,
         null,
         "1.9325"
        ],
        [
         "1980-05-01 00:00:00",
         "Barguna",
         "22.32",
         "90.3275",
         "0.0340664456786266",
         "0.0329499861705172",
         "0.7336811075744079",
         "0.742409175728118",
         "0.0369236111360148",
         "0.0375218603476823",
         "0.7587190296203061",
         "0.7548097112768677",
         "Bamna",
         "GT0419003",
         "1.878744597690437",
         "2.0121293",
         null,
         null,
         null,
         null,
         "1.655"
        ]
       ],
       "shape": {
        "columns": 20,
        "rows": 5
       }
      },
      "text/html": [
       "<div>\n",
       "<style scoped>\n",
       "    .dataframe tbody tr th:only-of-type {\n",
       "        vertical-align: middle;\n",
       "    }\n",
       "\n",
       "    .dataframe tbody tr th {\n",
       "        vertical-align: top;\n",
       "    }\n",
       "\n",
       "    .dataframe thead th {\n",
       "        text-align: right;\n",
       "    }\n",
       "</style>\n",
       "<table border=\"1\" class=\"dataframe\">\n",
       "  <thead>\n",
       "    <tr style=\"text-align: right;\">\n",
       "      <th></th>\n",
       "      <th>DISTRICT</th>\n",
       "      <th>LATITUDE</th>\n",
       "      <th>LONGITUDE</th>\n",
       "      <th>Test MSE (lr)</th>\n",
       "      <th>Test MSE (xgb)</th>\n",
       "      <th>Test R2 (lr)</th>\n",
       "      <th>Test R2 (xgb)</th>\n",
       "      <th>Train MSE (lr)</th>\n",
       "      <th>Train MSE (xgb)</th>\n",
       "      <th>Train R2 (lr)</th>\n",
       "      <th>Train R2 (xgb)</th>\n",
       "      <th>UPAZILA</th>\n",
       "      <th>WELL ID</th>\n",
       "      <th>downscaled_hist_lr</th>\n",
       "      <th>downscaled_hist_xgb</th>\n",
       "      <th>downscaled_ssp_245_lr</th>\n",
       "      <th>downscaled_ssp_245_xgb</th>\n",
       "      <th>downscaled_ssp_585_lr</th>\n",
       "      <th>downscaled_ssp_585_xgb</th>\n",
       "      <th>wtable</th>\n",
       "    </tr>\n",
       "  </thead>\n",
       "  <tbody>\n",
       "    <tr>\n",
       "      <th>1980-01-01</th>\n",
       "      <td>Barguna</td>\n",
       "      <td>22.32</td>\n",
       "      <td>90.3275</td>\n",
       "      <td>0.034066</td>\n",
       "      <td>0.03295</td>\n",
       "      <td>0.733681</td>\n",
       "      <td>0.742409</td>\n",
       "      <td>0.036924</td>\n",
       "      <td>0.037522</td>\n",
       "      <td>0.758719</td>\n",
       "      <td>0.75481</td>\n",
       "      <td>Bamna</td>\n",
       "      <td>GT0419003</td>\n",
       "      <td>2.133680</td>\n",
       "      <td>2.119114</td>\n",
       "      <td>NaN</td>\n",
       "      <td>NaN</td>\n",
       "      <td>NaN</td>\n",
       "      <td>NaN</td>\n",
       "      <td>2.0925</td>\n",
       "    </tr>\n",
       "    <tr>\n",
       "      <th>1980-02-01</th>\n",
       "      <td>Barguna</td>\n",
       "      <td>22.32</td>\n",
       "      <td>90.3275</td>\n",
       "      <td>0.034066</td>\n",
       "      <td>0.03295</td>\n",
       "      <td>0.733681</td>\n",
       "      <td>0.742409</td>\n",
       "      <td>0.036924</td>\n",
       "      <td>0.037522</td>\n",
       "      <td>0.758719</td>\n",
       "      <td>0.75481</td>\n",
       "      <td>Bamna</td>\n",
       "      <td>GT0419003</td>\n",
       "      <td>2.178187</td>\n",
       "      <td>2.025248</td>\n",
       "      <td>NaN</td>\n",
       "      <td>NaN</td>\n",
       "      <td>NaN</td>\n",
       "      <td>NaN</td>\n",
       "      <td>2.1550</td>\n",
       "    </tr>\n",
       "    <tr>\n",
       "      <th>1980-03-01</th>\n",
       "      <td>Barguna</td>\n",
       "      <td>22.32</td>\n",
       "      <td>90.3275</td>\n",
       "      <td>0.034066</td>\n",
       "      <td>0.03295</td>\n",
       "      <td>0.733681</td>\n",
       "      <td>0.742409</td>\n",
       "      <td>0.036924</td>\n",
       "      <td>0.037522</td>\n",
       "      <td>0.758719</td>\n",
       "      <td>0.75481</td>\n",
       "      <td>Bamna</td>\n",
       "      <td>GT0419003</td>\n",
       "      <td>2.226468</td>\n",
       "      <td>2.113871</td>\n",
       "      <td>NaN</td>\n",
       "      <td>NaN</td>\n",
       "      <td>NaN</td>\n",
       "      <td>NaN</td>\n",
       "      <td>2.0260</td>\n",
       "    </tr>\n",
       "    <tr>\n",
       "      <th>1980-04-01</th>\n",
       "      <td>Barguna</td>\n",
       "      <td>22.32</td>\n",
       "      <td>90.3275</td>\n",
       "      <td>0.034066</td>\n",
       "      <td>0.03295</td>\n",
       "      <td>0.733681</td>\n",
       "      <td>0.742409</td>\n",
       "      <td>0.036924</td>\n",
       "      <td>0.037522</td>\n",
       "      <td>0.758719</td>\n",
       "      <td>0.75481</td>\n",
       "      <td>Bamna</td>\n",
       "      <td>GT0419003</td>\n",
       "      <td>2.101389</td>\n",
       "      <td>2.110234</td>\n",
       "      <td>NaN</td>\n",
       "      <td>NaN</td>\n",
       "      <td>NaN</td>\n",
       "      <td>NaN</td>\n",
       "      <td>1.9325</td>\n",
       "    </tr>\n",
       "    <tr>\n",
       "      <th>1980-05-01</th>\n",
       "      <td>Barguna</td>\n",
       "      <td>22.32</td>\n",
       "      <td>90.3275</td>\n",
       "      <td>0.034066</td>\n",
       "      <td>0.03295</td>\n",
       "      <td>0.733681</td>\n",
       "      <td>0.742409</td>\n",
       "      <td>0.036924</td>\n",
       "      <td>0.037522</td>\n",
       "      <td>0.758719</td>\n",
       "      <td>0.75481</td>\n",
       "      <td>Bamna</td>\n",
       "      <td>GT0419003</td>\n",
       "      <td>1.878745</td>\n",
       "      <td>2.012129</td>\n",
       "      <td>NaN</td>\n",
       "      <td>NaN</td>\n",
       "      <td>NaN</td>\n",
       "      <td>NaN</td>\n",
       "      <td>1.6550</td>\n",
       "    </tr>\n",
       "  </tbody>\n",
       "</table>\n",
       "</div>"
      ],
      "text/plain": [
       "           DISTRICT  LATITUDE  LONGITUDE  Test MSE (lr)  Test MSE (xgb)  \\\n",
       "1980-01-01  Barguna     22.32    90.3275       0.034066         0.03295   \n",
       "1980-02-01  Barguna     22.32    90.3275       0.034066         0.03295   \n",
       "1980-03-01  Barguna     22.32    90.3275       0.034066         0.03295   \n",
       "1980-04-01  Barguna     22.32    90.3275       0.034066         0.03295   \n",
       "1980-05-01  Barguna     22.32    90.3275       0.034066         0.03295   \n",
       "\n",
       "            Test R2 (lr)  Test R2 (xgb)  Train MSE (lr)  Train MSE (xgb)  \\\n",
       "1980-01-01      0.733681       0.742409        0.036924         0.037522   \n",
       "1980-02-01      0.733681       0.742409        0.036924         0.037522   \n",
       "1980-03-01      0.733681       0.742409        0.036924         0.037522   \n",
       "1980-04-01      0.733681       0.742409        0.036924         0.037522   \n",
       "1980-05-01      0.733681       0.742409        0.036924         0.037522   \n",
       "\n",
       "            Train R2 (lr)  Train R2 (xgb) UPAZILA    WELL ID  \\\n",
       "1980-01-01       0.758719         0.75481   Bamna  GT0419003   \n",
       "1980-02-01       0.758719         0.75481   Bamna  GT0419003   \n",
       "1980-03-01       0.758719         0.75481   Bamna  GT0419003   \n",
       "1980-04-01       0.758719         0.75481   Bamna  GT0419003   \n",
       "1980-05-01       0.758719         0.75481   Bamna  GT0419003   \n",
       "\n",
       "            downscaled_hist_lr  downscaled_hist_xgb  downscaled_ssp_245_lr  \\\n",
       "1980-01-01            2.133680             2.119114                    NaN   \n",
       "1980-02-01            2.178187             2.025248                    NaN   \n",
       "1980-03-01            2.226468             2.113871                    NaN   \n",
       "1980-04-01            2.101389             2.110234                    NaN   \n",
       "1980-05-01            1.878745             2.012129                    NaN   \n",
       "\n",
       "            downscaled_ssp_245_xgb  downscaled_ssp_585_lr  \\\n",
       "1980-01-01                     NaN                    NaN   \n",
       "1980-02-01                     NaN                    NaN   \n",
       "1980-03-01                     NaN                    NaN   \n",
       "1980-04-01                     NaN                    NaN   \n",
       "1980-05-01                     NaN                    NaN   \n",
       "\n",
       "            downscaled_ssp_585_xgb  wtable  \n",
       "1980-01-01                     NaN  2.0925  \n",
       "1980-02-01                     NaN  2.1550  \n",
       "1980-03-01                     NaN  2.0260  \n",
       "1980-04-01                     NaN  1.9325  \n",
       "1980-05-01                     NaN  1.6550  "
      ]
     },
     "execution_count": 7,
     "metadata": {},
     "output_type": "execute_result"
    }
   ],
   "source": [
    "df = stations_df[1]\n",
    "df.head()"
   ]
  },
  {
   "cell_type": "code",
   "execution_count": 8,
   "id": "a437b1c2",
   "metadata": {},
   "outputs": [],
   "source": [
    "y = monthly_bias_correction(df['wtable'], df['downscaled_hist_xgb'])"
   ]
  },
  {
   "cell_type": "code",
   "execution_count": 13,
   "id": "635ebb52",
   "metadata": {},
   "outputs": [
    {
     "data": {
      "text/plain": [
       "<Axes: ylabel='Frequency'>"
      ]
     },
     "execution_count": 13,
     "metadata": {},
     "output_type": "execute_result"
    },
    {
     "data": {
      "image/png": "[encoded data removed]",
      "text/plain": [
       "<Figure size 1200x600 with 1 Axes>"
      ]
     },
     "metadata": {},
     "output_type": "display_data"
    }
   ],
   "source": [
    "import matplotlib.pyplot as plt\n",
    "fig, ax = plt.subplots(figsize=(12, 6))\n",
    "df['wtable'].dropna().plot(kind=\"hist\", ax=ax) \n",
    "df['downscaled_hist_xgb'].dropna().plot(kind=\"hist\", ax=ax)\n",
    "y.dropna().plot(kind=\"hist\", ax=ax)"
   ]
  }
 ],
 "metadata": {
  "kernelspec": {
   "display_name": "Python 3",
   "language": "python",
   "name": "python3"
  },
  "language_info": {
   "codemirror_mode": {
    "name": "ipython",
    "version": 3
   },
   "file_extension": ".py",
   "mimetype": "text/x-python",
   "name": "python",
   "nbconvert_exporter": "python",
   "pygments_lexer": "ipython3",
   "version": "3.11.2"
  }
 },
 "nbformat": 4,
 "nbformat_minor": 5
}
